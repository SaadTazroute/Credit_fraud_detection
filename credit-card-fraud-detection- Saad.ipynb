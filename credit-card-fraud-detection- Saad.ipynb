{
 "cells": [
  {
   "cell_type": "markdown",
   "metadata": {},
   "source": [
    "This project aims to identify fraudulent credit card transactions using machine learning. The data is obtained from Kaggle (<a href='https://www.kaggle.com/mlg-ulb/creditcardfraud' target='_blank'>link</a>). This project will compare the performance of four different classifiers in how well they detect fraud and look at how to handle imbalanced data.\n",
    "\n",
    "References:\n",
    " - <a href=\"https://www.kaggle.com/janiobachmann/credit-fraud-dealing-with-imbalanced-datasets\" target=\"_blank\">Credit Fraud || Dealing with Imbalanced Datasets</a> by Janio Martinez\n",
    " - <a href=\"https://medium.com/analytics-vidhya/credit-card-fraud-detection-in-python-using-scikit-learn-f9046a030f50\" target=\"_blank\">Credit Card Fraud Detection in Python using Scikit Learn</a>\n",
    " - <a href=\"https://towardsdatascience.com/understanding-neural-networks-19020b758230\n",
    " \" target=\"_blank\">Understanding Neural Networks</a>\n",
    "\n",
    "\n",
    "To begin, the important python modules are imported into the notebook."
   ]
  },
  {
   "cell_type": "markdown",
   "metadata": {},
   "source": [
    "## Introduction :\n"
   ]
  },
  {
   "cell_type": "markdown",
   "metadata": {},
   "source": [
    "This notebook is realized as part of my self-training as an engineering student at Ecole Centrale Casablanca.\n",
    "\n",
    "Before we start, we would like to follow a very rigorous process for any Data science project, and that's why We will try to follow the Cross Industry Standard Process for Data Mining.\n",
    "\n",
    "\n"
   ]
  },
  {
   "cell_type": "markdown",
   "metadata": {},
   "source": [
    "The data available for this task is the product of the application of the PCA technique on the original data set."
   ]
  },
  {
   "cell_type": "code",
   "execution_count": 1,
   "metadata": {
    "_cell_guid": "b1076dfc-b9ad-4769-8c92-a6c4dae69d19",
    "_uuid": "8f2839f25d086af736a60e9eeb907d3b93b6e0e5"
   },
   "outputs": [],
   "source": [
    "# This Python 3 environment comes with many helpful analytics libraries installed\n",
    "# It is defined by the kaggle/python Docker image: https://github.com/kaggle/docker-python\n",
    "# For example, here's several helpful packages to load\n",
    "\n",
    "import numpy as np # linear algebra\n",
    "import pandas as pd # data processing, CSV file I/O (e.g. pd.read_csv)\n",
    "\n",
    "# Input data files are available in the read-only \"../input/\" directory\n",
    "# For example, running this (by clicking run or pressing Shift+Enter) will list all files under the input directory\n",
    "\n",
    "\n",
    "# You can write up to 5GB to the current directory (/kaggle/working/) that gets preserved as output when you create a version using \"Save & Run All\" \n",
    "# You can also write temporary files to /kaggle/temp/, but they won't be saved outside of the current session"
   ]
  },
  {
   "cell_type": "code",
   "execution_count": 2,
   "metadata": {
    "_cell_guid": "79c7e3d0-c299-4dcb-8224-4455121ee9b0",
    "_uuid": "d629ff2d2480ee46fbb7e2d37f6b5fab8052498a"
   },
   "outputs": [],
   "source": [
    "import matplotlib.pyplot as plt\n",
    "import seaborn as sns"
   ]
  },
  {
   "cell_type": "code",
   "execution_count": 3,
   "metadata": {},
   "outputs": [
    {
     "data": {
      "text/html": [
       "<div>\n",
       "<style scoped>\n",
       "    .dataframe tbody tr th:only-of-type {\n",
       "        vertical-align: middle;\n",
       "    }\n",
       "\n",
       "    .dataframe tbody tr th {\n",
       "        vertical-align: top;\n",
       "    }\n",
       "\n",
       "    .dataframe thead th {\n",
       "        text-align: right;\n",
       "    }\n",
       "</style>\n",
       "<table border=\"1\" class=\"dataframe\">\n",
       "  <thead>\n",
       "    <tr style=\"text-align: right;\">\n",
       "      <th></th>\n",
       "      <th>Time</th>\n",
       "      <th>V1</th>\n",
       "      <th>V2</th>\n",
       "      <th>V3</th>\n",
       "      <th>V4</th>\n",
       "      <th>V5</th>\n",
       "      <th>V6</th>\n",
       "      <th>V7</th>\n",
       "      <th>V8</th>\n",
       "      <th>V9</th>\n",
       "      <th>...</th>\n",
       "      <th>V21</th>\n",
       "      <th>V22</th>\n",
       "      <th>V23</th>\n",
       "      <th>V24</th>\n",
       "      <th>V25</th>\n",
       "      <th>V26</th>\n",
       "      <th>V27</th>\n",
       "      <th>V28</th>\n",
       "      <th>Amount</th>\n",
       "      <th>Class</th>\n",
       "    </tr>\n",
       "  </thead>\n",
       "  <tbody>\n",
       "    <tr>\n",
       "      <th>0</th>\n",
       "      <td>0</td>\n",
       "      <td>-1.359807</td>\n",
       "      <td>-0.072781</td>\n",
       "      <td>2.536347</td>\n",
       "      <td>1.378155</td>\n",
       "      <td>-0.338321</td>\n",
       "      <td>0.462388</td>\n",
       "      <td>0.239599</td>\n",
       "      <td>0.098698</td>\n",
       "      <td>0.363787</td>\n",
       "      <td>...</td>\n",
       "      <td>-0.018307</td>\n",
       "      <td>0.277838</td>\n",
       "      <td>-0.110474</td>\n",
       "      <td>0.066928</td>\n",
       "      <td>0.128539</td>\n",
       "      <td>-0.189115</td>\n",
       "      <td>0.133558</td>\n",
       "      <td>-0.021053</td>\n",
       "      <td>149.62</td>\n",
       "      <td>0</td>\n",
       "    </tr>\n",
       "    <tr>\n",
       "      <th>1</th>\n",
       "      <td>0</td>\n",
       "      <td>1.191857</td>\n",
       "      <td>0.266151</td>\n",
       "      <td>0.166480</td>\n",
       "      <td>0.448154</td>\n",
       "      <td>0.060018</td>\n",
       "      <td>-0.082361</td>\n",
       "      <td>-0.078803</td>\n",
       "      <td>0.085102</td>\n",
       "      <td>-0.255425</td>\n",
       "      <td>...</td>\n",
       "      <td>-0.225775</td>\n",
       "      <td>-0.638672</td>\n",
       "      <td>0.101288</td>\n",
       "      <td>-0.339846</td>\n",
       "      <td>0.167170</td>\n",
       "      <td>0.125895</td>\n",
       "      <td>-0.008983</td>\n",
       "      <td>0.014724</td>\n",
       "      <td>2.69</td>\n",
       "      <td>0</td>\n",
       "    </tr>\n",
       "    <tr>\n",
       "      <th>2</th>\n",
       "      <td>1</td>\n",
       "      <td>-1.358354</td>\n",
       "      <td>-1.340163</td>\n",
       "      <td>1.773209</td>\n",
       "      <td>0.379780</td>\n",
       "      <td>-0.503198</td>\n",
       "      <td>1.800499</td>\n",
       "      <td>0.791461</td>\n",
       "      <td>0.247676</td>\n",
       "      <td>-1.514654</td>\n",
       "      <td>...</td>\n",
       "      <td>0.247998</td>\n",
       "      <td>0.771679</td>\n",
       "      <td>0.909412</td>\n",
       "      <td>-0.689281</td>\n",
       "      <td>-0.327642</td>\n",
       "      <td>-0.139097</td>\n",
       "      <td>-0.055353</td>\n",
       "      <td>-0.059752</td>\n",
       "      <td>378.66</td>\n",
       "      <td>0</td>\n",
       "    </tr>\n",
       "    <tr>\n",
       "      <th>3</th>\n",
       "      <td>1</td>\n",
       "      <td>-0.966272</td>\n",
       "      <td>-0.185226</td>\n",
       "      <td>1.792993</td>\n",
       "      <td>-0.863291</td>\n",
       "      <td>-0.010309</td>\n",
       "      <td>1.247203</td>\n",
       "      <td>0.237609</td>\n",
       "      <td>0.377436</td>\n",
       "      <td>-1.387024</td>\n",
       "      <td>...</td>\n",
       "      <td>-0.108300</td>\n",
       "      <td>0.005274</td>\n",
       "      <td>-0.190321</td>\n",
       "      <td>-1.175575</td>\n",
       "      <td>0.647376</td>\n",
       "      <td>-0.221929</td>\n",
       "      <td>0.062723</td>\n",
       "      <td>0.061458</td>\n",
       "      <td>123.50</td>\n",
       "      <td>0</td>\n",
       "    </tr>\n",
       "    <tr>\n",
       "      <th>4</th>\n",
       "      <td>2</td>\n",
       "      <td>-1.158233</td>\n",
       "      <td>0.877737</td>\n",
       "      <td>1.548718</td>\n",
       "      <td>0.403034</td>\n",
       "      <td>-0.407193</td>\n",
       "      <td>0.095921</td>\n",
       "      <td>0.592941</td>\n",
       "      <td>-0.270533</td>\n",
       "      <td>0.817739</td>\n",
       "      <td>...</td>\n",
       "      <td>-0.009431</td>\n",
       "      <td>0.798278</td>\n",
       "      <td>-0.137458</td>\n",
       "      <td>0.141267</td>\n",
       "      <td>-0.206010</td>\n",
       "      <td>0.502292</td>\n",
       "      <td>0.219422</td>\n",
       "      <td>0.215153</td>\n",
       "      <td>69.99</td>\n",
       "      <td>0</td>\n",
       "    </tr>\n",
       "  </tbody>\n",
       "</table>\n",
       "<p>5 rows × 31 columns</p>\n",
       "</div>"
      ],
      "text/plain": [
       "   Time        V1        V2        V3        V4        V5        V6        V7  \\\n",
       "0     0 -1.359807 -0.072781  2.536347  1.378155 -0.338321  0.462388  0.239599   \n",
       "1     0  1.191857  0.266151  0.166480  0.448154  0.060018 -0.082361 -0.078803   \n",
       "2     1 -1.358354 -1.340163  1.773209  0.379780 -0.503198  1.800499  0.791461   \n",
       "3     1 -0.966272 -0.185226  1.792993 -0.863291 -0.010309  1.247203  0.237609   \n",
       "4     2 -1.158233  0.877737  1.548718  0.403034 -0.407193  0.095921  0.592941   \n",
       "\n",
       "         V8        V9  ...       V21       V22       V23       V24       V25  \\\n",
       "0  0.098698  0.363787  ... -0.018307  0.277838 -0.110474  0.066928  0.128539   \n",
       "1  0.085102 -0.255425  ... -0.225775 -0.638672  0.101288 -0.339846  0.167170   \n",
       "2  0.247676 -1.514654  ...  0.247998  0.771679  0.909412 -0.689281 -0.327642   \n",
       "3  0.377436 -1.387024  ... -0.108300  0.005274 -0.190321 -1.175575  0.647376   \n",
       "4 -0.270533  0.817739  ... -0.009431  0.798278 -0.137458  0.141267 -0.206010   \n",
       "\n",
       "        V26       V27       V28  Amount  Class  \n",
       "0 -0.189115  0.133558 -0.021053  149.62      0  \n",
       "1  0.125895 -0.008983  0.014724    2.69      0  \n",
       "2 -0.139097 -0.055353 -0.059752  378.66      0  \n",
       "3 -0.221929  0.062723  0.061458  123.50      0  \n",
       "4  0.502292  0.219422  0.215153   69.99      0  \n",
       "\n",
       "[5 rows x 31 columns]"
      ]
     },
     "execution_count": 3,
     "metadata": {},
     "output_type": "execute_result"
    }
   ],
   "source": [
    "cc_data = pd.read_csv(\"creditcard.csv\")\n",
    "\n",
    "cc_data.head()"
   ]
  },
  {
   "cell_type": "markdown",
   "metadata": {},
   "source": [
    "## Data Summary"
   ]
  },
  {
   "cell_type": "markdown",
   "metadata": {},
   "source": [
    "Below it is seen that there are 31 columns. The **Time**  column shows how much time eleapsed between transactions, **V1** to **V28** show the principal components of transactions, **Amount** shows how much money was spent per transaction and **Class** is a variable that indicates whether a transaction is valid or fraudulent with fradulent transactions having a value of 1 and valid transactions having a value of 0. As shown below the mean amount spent per transaction is low at around 88 US$. As columns **V1** to **V28** have already been scaled, for uniformity purposes, **Amount** and **Time** should be scaled to. This scaling is done below."
   ]
  },
  {
   "cell_type": "code",
   "execution_count": 4,
   "metadata": {},
   "outputs": [
    {
     "data": {
      "text/html": [
       "<div>\n",
       "<style scoped>\n",
       "    .dataframe tbody tr th:only-of-type {\n",
       "        vertical-align: middle;\n",
       "    }\n",
       "\n",
       "    .dataframe tbody tr th {\n",
       "        vertical-align: top;\n",
       "    }\n",
       "\n",
       "    .dataframe thead th {\n",
       "        text-align: right;\n",
       "    }\n",
       "</style>\n",
       "<table border=\"1\" class=\"dataframe\">\n",
       "  <thead>\n",
       "    <tr style=\"text-align: right;\">\n",
       "      <th></th>\n",
       "      <th>Time</th>\n",
       "      <th>V1</th>\n",
       "      <th>V2</th>\n",
       "      <th>V3</th>\n",
       "      <th>V4</th>\n",
       "      <th>V5</th>\n",
       "      <th>V6</th>\n",
       "      <th>V7</th>\n",
       "      <th>V8</th>\n",
       "      <th>V9</th>\n",
       "      <th>...</th>\n",
       "      <th>V21</th>\n",
       "      <th>V22</th>\n",
       "      <th>V23</th>\n",
       "      <th>V24</th>\n",
       "      <th>V25</th>\n",
       "      <th>V26</th>\n",
       "      <th>V27</th>\n",
       "      <th>V28</th>\n",
       "      <th>Amount</th>\n",
       "      <th>Class</th>\n",
       "    </tr>\n",
       "  </thead>\n",
       "  <tbody>\n",
       "    <tr>\n",
       "      <th>count</th>\n",
       "      <td>284807.00000</td>\n",
       "      <td>2.848070e+05</td>\n",
       "      <td>2.848070e+05</td>\n",
       "      <td>2.848070e+05</td>\n",
       "      <td>2.848070e+05</td>\n",
       "      <td>2.848070e+05</td>\n",
       "      <td>2.848070e+05</td>\n",
       "      <td>2.848070e+05</td>\n",
       "      <td>2.848070e+05</td>\n",
       "      <td>2.848070e+05</td>\n",
       "      <td>...</td>\n",
       "      <td>2.848070e+05</td>\n",
       "      <td>2.848070e+05</td>\n",
       "      <td>2.848070e+05</td>\n",
       "      <td>2.848070e+05</td>\n",
       "      <td>2.848070e+05</td>\n",
       "      <td>2.848070e+05</td>\n",
       "      <td>2.848070e+05</td>\n",
       "      <td>2.848070e+05</td>\n",
       "      <td>284793.000000</td>\n",
       "      <td>284807.000000</td>\n",
       "    </tr>\n",
       "    <tr>\n",
       "      <th>mean</th>\n",
       "      <td>94811.37406</td>\n",
       "      <td>3.921257e-15</td>\n",
       "      <td>5.620302e-16</td>\n",
       "      <td>-8.769071e-15</td>\n",
       "      <td>2.795086e-15</td>\n",
       "      <td>-1.545879e-15</td>\n",
       "      <td>2.005824e-15</td>\n",
       "      <td>-1.695445e-15</td>\n",
       "      <td>-1.849189e-16</td>\n",
       "      <td>-3.130319e-15</td>\n",
       "      <td>...</td>\n",
       "      <td>1.554056e-16</td>\n",
       "      <td>7.860739e-16</td>\n",
       "      <td>5.128149e-16</td>\n",
       "      <td>4.464203e-15</td>\n",
       "      <td>1.422651e-15</td>\n",
       "      <td>1.701391e-15</td>\n",
       "      <td>-3.656753e-16</td>\n",
       "      <td>-1.183752e-16</td>\n",
       "      <td>88.351304</td>\n",
       "      <td>0.001727</td>\n",
       "    </tr>\n",
       "    <tr>\n",
       "      <th>std</th>\n",
       "      <td>47489.85436</td>\n",
       "      <td>1.958696e+00</td>\n",
       "      <td>1.651309e+00</td>\n",
       "      <td>1.516255e+00</td>\n",
       "      <td>1.415869e+00</td>\n",
       "      <td>1.380247e+00</td>\n",
       "      <td>1.332271e+00</td>\n",
       "      <td>1.237094e+00</td>\n",
       "      <td>1.194353e+00</td>\n",
       "      <td>1.098632e+00</td>\n",
       "      <td>...</td>\n",
       "      <td>7.345240e-01</td>\n",
       "      <td>7.257016e-01</td>\n",
       "      <td>6.244603e-01</td>\n",
       "      <td>6.056471e-01</td>\n",
       "      <td>5.212781e-01</td>\n",
       "      <td>4.822270e-01</td>\n",
       "      <td>4.036325e-01</td>\n",
       "      <td>3.300833e-01</td>\n",
       "      <td>250.124399</td>\n",
       "      <td>0.041527</td>\n",
       "    </tr>\n",
       "    <tr>\n",
       "      <th>min</th>\n",
       "      <td>-416.00000</td>\n",
       "      <td>-5.640751e+01</td>\n",
       "      <td>-7.271573e+01</td>\n",
       "      <td>-4.832559e+01</td>\n",
       "      <td>-5.683171e+00</td>\n",
       "      <td>-1.137433e+02</td>\n",
       "      <td>-2.616051e+01</td>\n",
       "      <td>-4.355724e+01</td>\n",
       "      <td>-7.321672e+01</td>\n",
       "      <td>-1.343407e+01</td>\n",
       "      <td>...</td>\n",
       "      <td>-3.483038e+01</td>\n",
       "      <td>-1.093314e+01</td>\n",
       "      <td>-4.480774e+01</td>\n",
       "      <td>-2.836627e+00</td>\n",
       "      <td>-1.029540e+01</td>\n",
       "      <td>-2.604551e+00</td>\n",
       "      <td>-2.256568e+01</td>\n",
       "      <td>-1.543008e+01</td>\n",
       "      <td>0.000000</td>\n",
       "      <td>0.000000</td>\n",
       "    </tr>\n",
       "    <tr>\n",
       "      <th>25%</th>\n",
       "      <td>54201.00000</td>\n",
       "      <td>-9.203734e-01</td>\n",
       "      <td>-5.985499e-01</td>\n",
       "      <td>-8.903648e-01</td>\n",
       "      <td>-8.486401e-01</td>\n",
       "      <td>-6.915971e-01</td>\n",
       "      <td>-7.682956e-01</td>\n",
       "      <td>-5.540759e-01</td>\n",
       "      <td>-2.086297e-01</td>\n",
       "      <td>-6.430976e-01</td>\n",
       "      <td>...</td>\n",
       "      <td>-2.283949e-01</td>\n",
       "      <td>-5.423504e-01</td>\n",
       "      <td>-1.618463e-01</td>\n",
       "      <td>-3.545861e-01</td>\n",
       "      <td>-3.171451e-01</td>\n",
       "      <td>-3.269839e-01</td>\n",
       "      <td>-7.083953e-02</td>\n",
       "      <td>-5.295979e-02</td>\n",
       "      <td>5.600000</td>\n",
       "      <td>0.000000</td>\n",
       "    </tr>\n",
       "    <tr>\n",
       "      <th>50%</th>\n",
       "      <td>84690.00000</td>\n",
       "      <td>1.810880e-02</td>\n",
       "      <td>6.548556e-02</td>\n",
       "      <td>1.798463e-01</td>\n",
       "      <td>-1.984653e-02</td>\n",
       "      <td>-5.433583e-02</td>\n",
       "      <td>-2.741871e-01</td>\n",
       "      <td>4.010308e-02</td>\n",
       "      <td>2.235804e-02</td>\n",
       "      <td>-5.142873e-02</td>\n",
       "      <td>...</td>\n",
       "      <td>-2.945017e-02</td>\n",
       "      <td>6.781943e-03</td>\n",
       "      <td>-1.119293e-02</td>\n",
       "      <td>4.097606e-02</td>\n",
       "      <td>1.659350e-02</td>\n",
       "      <td>-5.213911e-02</td>\n",
       "      <td>1.342146e-03</td>\n",
       "      <td>1.124383e-02</td>\n",
       "      <td>22.000000</td>\n",
       "      <td>0.000000</td>\n",
       "    </tr>\n",
       "    <tr>\n",
       "      <th>75%</th>\n",
       "      <td>139320.00000</td>\n",
       "      <td>1.315642e+00</td>\n",
       "      <td>8.037239e-01</td>\n",
       "      <td>1.027196e+00</td>\n",
       "      <td>7.433413e-01</td>\n",
       "      <td>6.119264e-01</td>\n",
       "      <td>3.985649e-01</td>\n",
       "      <td>5.704361e-01</td>\n",
       "      <td>3.273459e-01</td>\n",
       "      <td>5.971390e-01</td>\n",
       "      <td>...</td>\n",
       "      <td>1.863772e-01</td>\n",
       "      <td>5.285536e-01</td>\n",
       "      <td>1.476421e-01</td>\n",
       "      <td>4.395266e-01</td>\n",
       "      <td>3.507156e-01</td>\n",
       "      <td>2.409522e-01</td>\n",
       "      <td>9.104512e-02</td>\n",
       "      <td>7.827995e-02</td>\n",
       "      <td>77.170000</td>\n",
       "      <td>0.000000</td>\n",
       "    </tr>\n",
       "    <tr>\n",
       "      <th>max</th>\n",
       "      <td>172792.00000</td>\n",
       "      <td>2.454930e+00</td>\n",
       "      <td>2.205773e+01</td>\n",
       "      <td>9.382558e+00</td>\n",
       "      <td>1.687534e+01</td>\n",
       "      <td>3.480167e+01</td>\n",
       "      <td>7.330163e+01</td>\n",
       "      <td>1.205895e+02</td>\n",
       "      <td>2.000721e+01</td>\n",
       "      <td>1.559499e+01</td>\n",
       "      <td>...</td>\n",
       "      <td>2.720284e+01</td>\n",
       "      <td>1.050309e+01</td>\n",
       "      <td>2.252841e+01</td>\n",
       "      <td>4.584549e+00</td>\n",
       "      <td>7.519589e+00</td>\n",
       "      <td>3.517346e+00</td>\n",
       "      <td>3.161220e+01</td>\n",
       "      <td>3.384781e+01</td>\n",
       "      <td>25691.160000</td>\n",
       "      <td>1.000000</td>\n",
       "    </tr>\n",
       "  </tbody>\n",
       "</table>\n",
       "<p>8 rows × 31 columns</p>\n",
       "</div>"
      ],
      "text/plain": [
       "               Time            V1            V2            V3            V4  \\\n",
       "count  284807.00000  2.848070e+05  2.848070e+05  2.848070e+05  2.848070e+05   \n",
       "mean    94811.37406  3.921257e-15  5.620302e-16 -8.769071e-15  2.795086e-15   \n",
       "std     47489.85436  1.958696e+00  1.651309e+00  1.516255e+00  1.415869e+00   \n",
       "min      -416.00000 -5.640751e+01 -7.271573e+01 -4.832559e+01 -5.683171e+00   \n",
       "25%     54201.00000 -9.203734e-01 -5.985499e-01 -8.903648e-01 -8.486401e-01   \n",
       "50%     84690.00000  1.810880e-02  6.548556e-02  1.798463e-01 -1.984653e-02   \n",
       "75%    139320.00000  1.315642e+00  8.037239e-01  1.027196e+00  7.433413e-01   \n",
       "max    172792.00000  2.454930e+00  2.205773e+01  9.382558e+00  1.687534e+01   \n",
       "\n",
       "                 V5            V6            V7            V8            V9  \\\n",
       "count  2.848070e+05  2.848070e+05  2.848070e+05  2.848070e+05  2.848070e+05   \n",
       "mean  -1.545879e-15  2.005824e-15 -1.695445e-15 -1.849189e-16 -3.130319e-15   \n",
       "std    1.380247e+00  1.332271e+00  1.237094e+00  1.194353e+00  1.098632e+00   \n",
       "min   -1.137433e+02 -2.616051e+01 -4.355724e+01 -7.321672e+01 -1.343407e+01   \n",
       "25%   -6.915971e-01 -7.682956e-01 -5.540759e-01 -2.086297e-01 -6.430976e-01   \n",
       "50%   -5.433583e-02 -2.741871e-01  4.010308e-02  2.235804e-02 -5.142873e-02   \n",
       "75%    6.119264e-01  3.985649e-01  5.704361e-01  3.273459e-01  5.971390e-01   \n",
       "max    3.480167e+01  7.330163e+01  1.205895e+02  2.000721e+01  1.559499e+01   \n",
       "\n",
       "       ...           V21           V22           V23           V24  \\\n",
       "count  ...  2.848070e+05  2.848070e+05  2.848070e+05  2.848070e+05   \n",
       "mean   ...  1.554056e-16  7.860739e-16  5.128149e-16  4.464203e-15   \n",
       "std    ...  7.345240e-01  7.257016e-01  6.244603e-01  6.056471e-01   \n",
       "min    ... -3.483038e+01 -1.093314e+01 -4.480774e+01 -2.836627e+00   \n",
       "25%    ... -2.283949e-01 -5.423504e-01 -1.618463e-01 -3.545861e-01   \n",
       "50%    ... -2.945017e-02  6.781943e-03 -1.119293e-02  4.097606e-02   \n",
       "75%    ...  1.863772e-01  5.285536e-01  1.476421e-01  4.395266e-01   \n",
       "max    ...  2.720284e+01  1.050309e+01  2.252841e+01  4.584549e+00   \n",
       "\n",
       "                V25           V26           V27           V28         Amount  \\\n",
       "count  2.848070e+05  2.848070e+05  2.848070e+05  2.848070e+05  284793.000000   \n",
       "mean   1.422651e-15  1.701391e-15 -3.656753e-16 -1.183752e-16      88.351304   \n",
       "std    5.212781e-01  4.822270e-01  4.036325e-01  3.300833e-01     250.124399   \n",
       "min   -1.029540e+01 -2.604551e+00 -2.256568e+01 -1.543008e+01       0.000000   \n",
       "25%   -3.171451e-01 -3.269839e-01 -7.083953e-02 -5.295979e-02       5.600000   \n",
       "50%    1.659350e-02 -5.213911e-02  1.342146e-03  1.124383e-02      22.000000   \n",
       "75%    3.507156e-01  2.409522e-01  9.104512e-02  7.827995e-02      77.170000   \n",
       "max    7.519589e+00  3.517346e+00  3.161220e+01  3.384781e+01   25691.160000   \n",
       "\n",
       "               Class  \n",
       "count  284807.000000  \n",
       "mean        0.001727  \n",
       "std         0.041527  \n",
       "min         0.000000  \n",
       "25%         0.000000  \n",
       "50%         0.000000  \n",
       "75%         0.000000  \n",
       "max         1.000000  \n",
       "\n",
       "[8 rows x 31 columns]"
      ]
     },
     "execution_count": 4,
     "metadata": {},
     "output_type": "execute_result"
    }
   ],
   "source": [
    "cc_data.describe()"
   ]
  },
  {
   "cell_type": "code",
   "execution_count": 5,
   "metadata": {},
   "outputs": [
    {
     "data": {
      "text/plain": [
       "(284807, 31)"
      ]
     },
     "execution_count": 5,
     "metadata": {},
     "output_type": "execute_result"
    }
   ],
   "source": [
    "cc_data.shape"
   ]
  },
  {
   "cell_type": "markdown",
   "metadata": {},
   "source": [
    "## Data Preparation \n",
    "\n",
    "We can see that the **Amount** and **Time** columns are columns with non-normalized values. \n",
    "Thanks to RobustScaler we can change the scale of these two columns and make them into values belonging to the domain [-1,1]."
   ]
  },
  {
   "cell_type": "code",
   "execution_count": 6,
   "metadata": {},
   "outputs": [
    {
     "data": {
      "text/html": [
       "<div>\n",
       "<style scoped>\n",
       "    .dataframe tbody tr th:only-of-type {\n",
       "        vertical-align: middle;\n",
       "    }\n",
       "\n",
       "    .dataframe tbody tr th {\n",
       "        vertical-align: top;\n",
       "    }\n",
       "\n",
       "    .dataframe thead th {\n",
       "        text-align: right;\n",
       "    }\n",
       "</style>\n",
       "<table border=\"1\" class=\"dataframe\">\n",
       "  <thead>\n",
       "    <tr style=\"text-align: right;\">\n",
       "      <th></th>\n",
       "      <th>Time</th>\n",
       "      <th>V1</th>\n",
       "      <th>V2</th>\n",
       "      <th>V3</th>\n",
       "      <th>V4</th>\n",
       "      <th>V5</th>\n",
       "      <th>V6</th>\n",
       "      <th>V7</th>\n",
       "      <th>V8</th>\n",
       "      <th>V9</th>\n",
       "      <th>...</th>\n",
       "      <th>V23</th>\n",
       "      <th>V24</th>\n",
       "      <th>V25</th>\n",
       "      <th>V26</th>\n",
       "      <th>V27</th>\n",
       "      <th>V28</th>\n",
       "      <th>Amount</th>\n",
       "      <th>Class</th>\n",
       "      <th>Amount_Scaled</th>\n",
       "      <th>Time_Scaled_</th>\n",
       "    </tr>\n",
       "  </thead>\n",
       "  <tbody>\n",
       "    <tr>\n",
       "      <th>0</th>\n",
       "      <td>0</td>\n",
       "      <td>-1.359807</td>\n",
       "      <td>-0.072781</td>\n",
       "      <td>2.536347</td>\n",
       "      <td>1.378155</td>\n",
       "      <td>-0.338321</td>\n",
       "      <td>0.462388</td>\n",
       "      <td>0.239599</td>\n",
       "      <td>0.098698</td>\n",
       "      <td>0.363787</td>\n",
       "      <td>...</td>\n",
       "      <td>-0.110474</td>\n",
       "      <td>0.066928</td>\n",
       "      <td>0.128539</td>\n",
       "      <td>-0.189115</td>\n",
       "      <td>0.133558</td>\n",
       "      <td>-0.021053</td>\n",
       "      <td>149.62</td>\n",
       "      <td>0</td>\n",
       "      <td>1.783149</td>\n",
       "      <td>-0.994960</td>\n",
       "    </tr>\n",
       "    <tr>\n",
       "      <th>1</th>\n",
       "      <td>0</td>\n",
       "      <td>1.191857</td>\n",
       "      <td>0.266151</td>\n",
       "      <td>0.166480</td>\n",
       "      <td>0.448154</td>\n",
       "      <td>0.060018</td>\n",
       "      <td>-0.082361</td>\n",
       "      <td>-0.078803</td>\n",
       "      <td>0.085102</td>\n",
       "      <td>-0.255425</td>\n",
       "      <td>...</td>\n",
       "      <td>0.101288</td>\n",
       "      <td>-0.339846</td>\n",
       "      <td>0.167170</td>\n",
       "      <td>0.125895</td>\n",
       "      <td>-0.008983</td>\n",
       "      <td>0.014724</td>\n",
       "      <td>2.69</td>\n",
       "      <td>0</td>\n",
       "      <td>-0.269806</td>\n",
       "      <td>-0.994960</td>\n",
       "    </tr>\n",
       "    <tr>\n",
       "      <th>2</th>\n",
       "      <td>1</td>\n",
       "      <td>-1.358354</td>\n",
       "      <td>-1.340163</td>\n",
       "      <td>1.773209</td>\n",
       "      <td>0.379780</td>\n",
       "      <td>-0.503198</td>\n",
       "      <td>1.800499</td>\n",
       "      <td>0.791461</td>\n",
       "      <td>0.247676</td>\n",
       "      <td>-1.514654</td>\n",
       "      <td>...</td>\n",
       "      <td>0.909412</td>\n",
       "      <td>-0.689281</td>\n",
       "      <td>-0.327642</td>\n",
       "      <td>-0.139097</td>\n",
       "      <td>-0.055353</td>\n",
       "      <td>-0.059752</td>\n",
       "      <td>378.66</td>\n",
       "      <td>0</td>\n",
       "      <td>4.983373</td>\n",
       "      <td>-0.994948</td>\n",
       "    </tr>\n",
       "    <tr>\n",
       "      <th>3</th>\n",
       "      <td>1</td>\n",
       "      <td>-0.966272</td>\n",
       "      <td>-0.185226</td>\n",
       "      <td>1.792993</td>\n",
       "      <td>-0.863291</td>\n",
       "      <td>-0.010309</td>\n",
       "      <td>1.247203</td>\n",
       "      <td>0.237609</td>\n",
       "      <td>0.377436</td>\n",
       "      <td>-1.387024</td>\n",
       "      <td>...</td>\n",
       "      <td>-0.190321</td>\n",
       "      <td>-1.175575</td>\n",
       "      <td>0.647376</td>\n",
       "      <td>-0.221929</td>\n",
       "      <td>0.062723</td>\n",
       "      <td>0.061458</td>\n",
       "      <td>123.50</td>\n",
       "      <td>0</td>\n",
       "      <td>1.418192</td>\n",
       "      <td>-0.994948</td>\n",
       "    </tr>\n",
       "    <tr>\n",
       "      <th>4</th>\n",
       "      <td>2</td>\n",
       "      <td>-1.158233</td>\n",
       "      <td>0.877737</td>\n",
       "      <td>1.548718</td>\n",
       "      <td>0.403034</td>\n",
       "      <td>-0.407193</td>\n",
       "      <td>0.095921</td>\n",
       "      <td>0.592941</td>\n",
       "      <td>-0.270533</td>\n",
       "      <td>0.817739</td>\n",
       "      <td>...</td>\n",
       "      <td>-0.137458</td>\n",
       "      <td>0.141267</td>\n",
       "      <td>-0.206010</td>\n",
       "      <td>0.502292</td>\n",
       "      <td>0.219422</td>\n",
       "      <td>0.215153</td>\n",
       "      <td>69.99</td>\n",
       "      <td>0</td>\n",
       "      <td>0.670532</td>\n",
       "      <td>-0.994937</td>\n",
       "    </tr>\n",
       "  </tbody>\n",
       "</table>\n",
       "<p>5 rows × 33 columns</p>\n",
       "</div>"
      ],
      "text/plain": [
       "   Time        V1        V2        V3        V4        V5        V6        V7  \\\n",
       "0     0 -1.359807 -0.072781  2.536347  1.378155 -0.338321  0.462388  0.239599   \n",
       "1     0  1.191857  0.266151  0.166480  0.448154  0.060018 -0.082361 -0.078803   \n",
       "2     1 -1.358354 -1.340163  1.773209  0.379780 -0.503198  1.800499  0.791461   \n",
       "3     1 -0.966272 -0.185226  1.792993 -0.863291 -0.010309  1.247203  0.237609   \n",
       "4     2 -1.158233  0.877737  1.548718  0.403034 -0.407193  0.095921  0.592941   \n",
       "\n",
       "         V8        V9  ...       V23       V24       V25       V26       V27  \\\n",
       "0  0.098698  0.363787  ... -0.110474  0.066928  0.128539 -0.189115  0.133558   \n",
       "1  0.085102 -0.255425  ...  0.101288 -0.339846  0.167170  0.125895 -0.008983   \n",
       "2  0.247676 -1.514654  ...  0.909412 -0.689281 -0.327642 -0.139097 -0.055353   \n",
       "3  0.377436 -1.387024  ... -0.190321 -1.175575  0.647376 -0.221929  0.062723   \n",
       "4 -0.270533  0.817739  ... -0.137458  0.141267 -0.206010  0.502292  0.219422   \n",
       "\n",
       "        V28  Amount  Class  Amount_Scaled  Time_Scaled_  \n",
       "0 -0.021053  149.62      0       1.783149     -0.994960  \n",
       "1  0.014724    2.69      0      -0.269806     -0.994960  \n",
       "2 -0.059752  378.66      0       4.983373     -0.994948  \n",
       "3  0.061458  123.50      0       1.418192     -0.994948  \n",
       "4  0.215153   69.99      0       0.670532     -0.994937  \n",
       "\n",
       "[5 rows x 33 columns]"
      ]
     },
     "execution_count": 6,
     "metadata": {},
     "output_type": "execute_result"
    }
   ],
   "source": [
    "from sklearn.preprocessing import RobustScaler\n",
    "\n",
    "rob_scaler = RobustScaler()\n",
    "\n",
    "cc_data['Amount_Scaled'] = rob_scaler.fit_transform(cc_data['Amount'].values.reshape(-1,1))\n",
    "cc_data['Time_Scaled_'] = rob_scaler.fit_transform(cc_data['Time'].values.reshape(-1,1))\n",
    "\n",
    "cc_data.head()"
   ]
  },
  {
   "cell_type": "markdown",
   "metadata": {},
   "source": [
    "Below the proportions of fraud versus valid cases is shown. The fraud cases make up 0.17% of the data which shows that the data is imbalanced. This means that by using this data as is the model is prone to overfitting as there are nearly 100 non-fraud transactions for every fraudulent transaction. It can be seen from the correlation matrix below that it is not clear which elements have an influence on the class of the transaction."
   ]
  },
  {
   "cell_type": "code",
   "execution_count": 7,
   "metadata": {},
   "outputs": [
    {
     "name": "stdout",
     "output_type": "stream",
     "text": [
      "Number of Fraud Cases: 492\n",
      "Number of Valid Transactions: 284315\n"
     ]
    }
   ],
   "source": [
    "fraud = cc_data[cc_data['Class'] == 1] \n",
    "valid = cc_data[cc_data['Class'] == 0] \n",
    " \n",
    "print('Number of Fraud Cases: {}'.format(len(cc_data[cc_data['Class'] == 1]))) \n",
    "print('Number of Valid Transactions: {}'.format(len(cc_data[cc_data['Class'] == 0])))"
   ]
  },
  {
   "cell_type": "code",
   "execution_count": 31,
   "metadata": {},
   "outputs": [
    {
     "data": {
      "text/plain": [
       "<matplotlib.axes._subplots.AxesSubplot at 0x24aa5f1f908>"
      ]
     },
     "execution_count": 31,
     "metadata": {},
     "output_type": "execute_result"
    },
    {
     "data": {
      "image/png": "[encoded data removed]",
      "text/plain": [
       "<Figure size 432x288 with 1 Axes>"
      ]
     },
     "metadata": {
      "needs_background": "light"
     },
     "output_type": "display_data"
    }
   ],
   "source": [
    "y = cc_data[\"Class\"].value_counts()\n",
    "#print (y)\n",
    "sns.barplot(y.index, y.values)"
   ]
  },
  {
   "cell_type": "markdown",
   "metadata": {},
   "source": [
    "Most of the transactions are not fraudulent, and only 0.17% of the dataset is fraudulent."
   ]
  },
  {
   "cell_type": "code",
   "execution_count": 8,
   "metadata": {},
   "outputs": [
    {
     "data": {
      "image/png": "[encoded data removed]",
      "text/plain": [
       "<Figure size 1080x720 with 2 Axes>"
      ]
     },
     "metadata": {
      "needs_background": "light"
     },
     "output_type": "display_data"
    }
   ],
   "source": [
    "corrmat = cc_data.corr()\n",
    "fig = plt.figure(figsize = (15, 10))\n",
    "\n",
    "sns.heatmap(corrmat, vmax = .75, square = True)\n",
    "plt.show()"
   ]
  },
  {
   "cell_type": "markdown",
   "metadata": {},
   "source": [
    "To deal with the imbalanced data and skew this creates, a sub-sample of the data is created. This subsample will be a dataframe that contains equal ratio of fraud to non-fraud cases. To create this sub=sample, we need to randomly select 492 non-fraud cases to match the 492 fraud cases we do have. To confirm that the number of cases are equal we check the value counts of the new dataframe."
   ]
  },
  {
   "cell_type": "code",
   "execution_count": 9,
   "metadata": {},
   "outputs": [
    {
     "data": {
      "text/html": [
       "<div>\n",
       "<style scoped>\n",
       "    .dataframe tbody tr th:only-of-type {\n",
       "        vertical-align: middle;\n",
       "    }\n",
       "\n",
       "    .dataframe tbody tr th {\n",
       "        vertical-align: top;\n",
       "    }\n",
       "\n",
       "    .dataframe thead th {\n",
       "        text-align: right;\n",
       "    }\n",
       "</style>\n",
       "<table border=\"1\" class=\"dataframe\">\n",
       "  <thead>\n",
       "    <tr style=\"text-align: right;\">\n",
       "      <th></th>\n",
       "      <th>V1</th>\n",
       "      <th>V2</th>\n",
       "      <th>V3</th>\n",
       "      <th>V4</th>\n",
       "      <th>V5</th>\n",
       "      <th>V6</th>\n",
       "      <th>V7</th>\n",
       "      <th>V8</th>\n",
       "      <th>V9</th>\n",
       "      <th>V10</th>\n",
       "      <th>...</th>\n",
       "      <th>V22</th>\n",
       "      <th>V23</th>\n",
       "      <th>V24</th>\n",
       "      <th>V25</th>\n",
       "      <th>V26</th>\n",
       "      <th>V27</th>\n",
       "      <th>V28</th>\n",
       "      <th>Class</th>\n",
       "      <th>Amount_Scaled</th>\n",
       "      <th>Time_Scaled_</th>\n",
       "    </tr>\n",
       "  </thead>\n",
       "  <tbody>\n",
       "    <tr>\n",
       "      <th>169960</th>\n",
       "      <td>-10.482762</td>\n",
       "      <td>1.306719</td>\n",
       "      <td>-5.148423</td>\n",
       "      <td>-2.169215</td>\n",
       "      <td>-7.708831</td>\n",
       "      <td>-0.512811</td>\n",
       "      <td>-3.889624</td>\n",
       "      <td>5.419595</td>\n",
       "      <td>-1.412040</td>\n",
       "      <td>1.045165</td>\n",
       "      <td>...</td>\n",
       "      <td>-0.359557</td>\n",
       "      <td>-1.761915</td>\n",
       "      <td>0.011398</td>\n",
       "      <td>0.860199</td>\n",
       "      <td>-0.083708</td>\n",
       "      <td>0.096030</td>\n",
       "      <td>-0.292960</td>\n",
       "      <td>0</td>\n",
       "      <td>1.825486</td>\n",
       "      <td>0.414232</td>\n",
       "    </tr>\n",
       "    <tr>\n",
       "      <th>154234</th>\n",
       "      <td>-23.984747</td>\n",
       "      <td>16.697832</td>\n",
       "      <td>-22.209875</td>\n",
       "      <td>9.584969</td>\n",
       "      <td>-16.230439</td>\n",
       "      <td>2.596333</td>\n",
       "      <td>-33.239328</td>\n",
       "      <td>-21.560039</td>\n",
       "      <td>-10.842526</td>\n",
       "      <td>-19.836149</td>\n",
       "      <td>...</td>\n",
       "      <td>5.774087</td>\n",
       "      <td>2.750221</td>\n",
       "      <td>0.513411</td>\n",
       "      <td>-1.608804</td>\n",
       "      <td>-0.459624</td>\n",
       "      <td>-4.626127</td>\n",
       "      <td>-0.334561</td>\n",
       "      <td>1</td>\n",
       "      <td>-0.293419</td>\n",
       "      <td>0.190721</td>\n",
       "    </tr>\n",
       "    <tr>\n",
       "      <th>250350</th>\n",
       "      <td>1.856387</td>\n",
       "      <td>-0.903993</td>\n",
       "      <td>0.290946</td>\n",
       "      <td>-0.103186</td>\n",
       "      <td>-1.383312</td>\n",
       "      <td>-0.333928</td>\n",
       "      <td>-1.070890</td>\n",
       "      <td>0.037212</td>\n",
       "      <td>1.529601</td>\n",
       "      <td>-0.173433</td>\n",
       "      <td>...</td>\n",
       "      <td>0.776506</td>\n",
       "      <td>0.219020</td>\n",
       "      <td>0.099593</td>\n",
       "      <td>-0.711843</td>\n",
       "      <td>1.239412</td>\n",
       "      <td>-0.046151</td>\n",
       "      <td>-0.031844</td>\n",
       "      <td>0</td>\n",
       "      <td>0.690932</td>\n",
       "      <td>0.824352</td>\n",
       "    </tr>\n",
       "    <tr>\n",
       "      <th>263877</th>\n",
       "      <td>-3.387601</td>\n",
       "      <td>3.977881</td>\n",
       "      <td>-6.978585</td>\n",
       "      <td>1.657766</td>\n",
       "      <td>-1.100500</td>\n",
       "      <td>-3.599487</td>\n",
       "      <td>-3.686651</td>\n",
       "      <td>1.942252</td>\n",
       "      <td>-3.065089</td>\n",
       "      <td>-7.509557</td>\n",
       "      <td>...</td>\n",
       "      <td>0.262189</td>\n",
       "      <td>-0.479224</td>\n",
       "      <td>-0.326638</td>\n",
       "      <td>-0.156939</td>\n",
       "      <td>0.113807</td>\n",
       "      <td>0.354124</td>\n",
       "      <td>0.287592</td>\n",
       "      <td>1</td>\n",
       "      <td>-0.302082</td>\n",
       "      <td>0.898319</td>\n",
       "    </tr>\n",
       "    <tr>\n",
       "      <th>42549</th>\n",
       "      <td>-5.314173</td>\n",
       "      <td>4.145944</td>\n",
       "      <td>-8.532522</td>\n",
       "      <td>8.344392</td>\n",
       "      <td>-5.718008</td>\n",
       "      <td>-3.043536</td>\n",
       "      <td>-10.989185</td>\n",
       "      <td>3.404129</td>\n",
       "      <td>-6.167234</td>\n",
       "      <td>-11.435624</td>\n",
       "      <td>...</td>\n",
       "      <td>0.862996</td>\n",
       "      <td>-0.614453</td>\n",
       "      <td>0.523648</td>\n",
       "      <td>-0.712593</td>\n",
       "      <td>0.324638</td>\n",
       "      <td>2.245091</td>\n",
       "      <td>0.497321</td>\n",
       "      <td>1</td>\n",
       "      <td>0.925388</td>\n",
       "      <td>-0.511554</td>\n",
       "    </tr>\n",
       "  </tbody>\n",
       "</table>\n",
       "<p>5 rows × 31 columns</p>\n",
       "</div>"
      ],
      "text/plain": [
       "               V1         V2         V3        V4         V5        V6  \\\n",
       "169960 -10.482762   1.306719  -5.148423 -2.169215  -7.708831 -0.512811   \n",
       "154234 -23.984747  16.697832 -22.209875  9.584969 -16.230439  2.596333   \n",
       "250350   1.856387  -0.903993   0.290946 -0.103186  -1.383312 -0.333928   \n",
       "263877  -3.387601   3.977881  -6.978585  1.657766  -1.100500 -3.599487   \n",
       "42549   -5.314173   4.145944  -8.532522  8.344392  -5.718008 -3.043536   \n",
       "\n",
       "               V7         V8         V9        V10  ...       V22       V23  \\\n",
       "169960  -3.889624   5.419595  -1.412040   1.045165  ... -0.359557 -1.761915   \n",
       "154234 -33.239328 -21.560039 -10.842526 -19.836149  ...  5.774087  2.750221   \n",
       "250350  -1.070890   0.037212   1.529601  -0.173433  ...  0.776506  0.219020   \n",
       "263877  -3.686651   1.942252  -3.065089  -7.509557  ...  0.262189 -0.479224   \n",
       "42549  -10.989185   3.404129  -6.167234 -11.435624  ...  0.862996 -0.614453   \n",
       "\n",
       "             V24       V25       V26       V27       V28  Class  \\\n",
       "169960  0.011398  0.860199 -0.083708  0.096030 -0.292960      0   \n",
       "154234  0.513411 -1.608804 -0.459624 -4.626127 -0.334561      1   \n",
       "250350  0.099593 -0.711843  1.239412 -0.046151 -0.031844      0   \n",
       "263877 -0.326638 -0.156939  0.113807  0.354124  0.287592      1   \n",
       "42549   0.523648 -0.712593  0.324638  2.245091  0.497321      1   \n",
       "\n",
       "        Amount_Scaled  Time_Scaled_  \n",
       "169960       1.825486      0.414232  \n",
       "154234      -0.293419      0.190721  \n",
       "250350       0.690932      0.824352  \n",
       "263877      -0.302082      0.898319  \n",
       "42549        0.925388     -0.511554  \n",
       "\n",
       "[5 rows x 31 columns]"
      ]
     },
     "execution_count": 9,
     "metadata": {},
     "output_type": "execute_result"
    }
   ],
   "source": [
    "data = cc_data.sample(frac=1).fillna(0)\n",
    "\n",
    "# amount of fraud classes 492 rows.\n",
    "fraud_data = data.loc[data['Class'] == 1]\n",
    "non_fraud_data = data.loc[data['Class'] == 0][:492]\n",
    "\n",
    "data1 = pd.concat([fraud_data, non_fraud_data])\n",
    "\n",
    "# Shuffle dataframe rows\n",
    "new_data = data1.sample(frac=1, random_state=42)\n",
    "\n",
    "new_data.drop(['Time','Amount'], axis=1, inplace=True)\n",
    "\n",
    "new_data.head()"
   ]
  },
  {
   "cell_type": "code",
   "execution_count": 10,
   "metadata": {},
   "outputs": [
    {
     "name": "stdout",
     "output_type": "stream",
     "text": [
      "1    492\n",
      "0    492\n",
      "Name: Class, dtype: int64\n"
     ]
    }
   ],
   "source": [
    "print(new_data['Class'].value_counts())"
   ]
  },
  {
   "cell_type": "markdown",
   "metadata": {},
   "source": [
    "The next step is to split the data into train and test sets. This is done by setting the **Class** column as the target column and specifying the size of the test data which is this case is 20% of the data in the dataframe."
   ]
  },
  {
   "cell_type": "code",
   "execution_count": 11,
   "metadata": {},
   "outputs": [],
   "source": [
    "X=new_data.drop(['Class'], axis=1)\n",
    "Y=new_data[\"Class\"]\n",
    "\n",
    "X_data=X.values\n",
    "Y_data=Y.values"
   ]
  },
  {
   "cell_type": "code",
   "execution_count": 28,
   "metadata": {},
   "outputs": [
    {
     "data": {
      "text/plain": [
       "PCA(copy=True, iterated_power='auto', n_components=None, random_state=None,\n",
       "    svd_solver='auto', tol=0.0, whiten=False)"
      ]
     },
     "execution_count": 28,
     "metadata": {},
     "output_type": "execute_result"
    }
   ],
   "source": [
    "from sklearn.decomposition import PCA\n",
    "\n",
    "\n",
    "pca = PCA()\n",
    "pca.fit(X)"
   ]
  },
  {
   "cell_type": "markdown",
   "metadata": {},
   "source": [
    "## Horn's Parallel Analysis"
   ]
  },
  {
   "cell_type": "markdown",
   "metadata": {},
   "source": [
    "We chosed to reduce the numbre of features throught the parallel analysis method. \\\n",
    "Parallel analysis, also known as Horn's parallel analysis, is a statistical method used to determine the number of components to keep in a principal component analysis or factors to keep in an exploratory factor analysis.\n"
   ]
  },
  {
   "cell_type": "code",
   "execution_count": 29,
   "metadata": {},
   "outputs": [
    {
     "data": {
      "text/plain": [
       "<matplotlib.legend.Legend at 0x24aa5ef3188>"
      ]
     },
     "execution_count": 29,
     "metadata": {},
     "output_type": "execute_result"
    },
    {
     "data": {
      "image/png": "[encoded data removed]",
      "text/plain": [
       "<Figure size 1008x864 with 1 Axes>"
      ]
     },
     "metadata": {
      "needs_background": "light"
     },
     "output_type": "display_data"
    }
   ],
   "source": [
    "def horn_parallel_analysis(shape, iters=1000, percentile=95):\n",
    "    pca = PCA(n_components=shape[1])\n",
    "    eigenvals = []\n",
    "    \n",
    "    for i in range(iters):\n",
    "        rdata = np.random.normal(0,1,size=shape)\n",
    "        pca.fit(rdata)\n",
    "        eigenvals.append(pca.explained_variance_)\n",
    "    \n",
    "    eigenvals = np.array(eigenvals)\n",
    "    return np.percentile(eigenvals, percentile, axis=0)\n",
    "\n",
    "hep_pa = horn_parallel_analysis(X.shape, percentile=95)\n",
    "\n",
    "fig, ax = plt.subplots(figsize=(14,12))\n",
    "\n",
    "ax.plot(range(1, X.shape[1]+1), pca.explained_variance_, lw=2, marker='o')\n",
    "ax.plot(range(1, X.shape[1]+1), hep_pa, lw=2, color='darkred', marker='o')\n",
    "ax.set_title(\"Horns parallel analysis on heptathlon principal components\")\n",
    "ax.set_xlabel(\"Principal Component\")\n",
    "ax.set_ylabel(\"Eigenvalue\")\n",
    "\n",
    "plt.legend(['Actual PCA Variance Explained', \"Random Gaussian PCA Variance Explained\"])\n"
   ]
  },
  {
   "cell_type": "markdown",
   "metadata": {},
   "source": [
    "We will take the components that have eigenvalues above the Gaussian random PCA plot.\n",
    "\n",
    "\n",
    "Number of components: 30\n",
    "\n",
    "We notice that the number of feature used is the optimal number for the realization of the predictions.\\\n",
    "No reduction in the number of features is possible.\n"
   ]
  },
  {
   "cell_type": "markdown",
   "metadata": {},
   "source": [
    "## Background :\n",
    "\n",
    "After preparing the data, we will begin the part of the models used for the exploitation of the data.\n",
    "\n",
    "First, we start with a rather theoretical documentation of the models used in the prediction of which transaction is fraudulent.\n",
    "\n"
   ]
  },
  {
   "cell_type": "markdown",
   "metadata": {},
   "source": [
    "\n",
    "## Logistic regression\n",
    "Logistic Regression is a Machine Learning algorithm which is used for the classification problems, it is a predictive analysis algorithm and based on the concept of probability.\n",
    "\n",
    "It's a method which uses as a cost function the ‘Sigmoid function’ or also known as the ‘logistic function’ instead of a linear function."
   ]
  },
  {
   "cell_type": "markdown",
   "metadata": {},
   "source": [
    "Let $Y$ be the variable to be predicted  and $X = (X_1, X_2, ..., X_J)$ the predictive variables.\n",
    "\n",
    "In binary logistic regression, the variable $Y$ takes two possible modalities $\\{1, 0\\}$. Variables $X_j$ are exclusively continuous or binary.  (continuous in our case).\n",
    "* Let $\\Omega$ be a set of $n$ samples, comprising $n_1$(resp. $n_0$) observations corresponding to the $1$(resp. $0$) modality of $Y$.\n",
    "*  $P(Y=1)$ (resp. $P(Y=0)$) is the  probability that$Y=1$(resp. $Y=0$). For simplicity, this will then be denoted as $p(1)$ (resp. $p(0)$).\n",
    "* $p(X \\vert 1)$(resp.$p(X\\vert 0)$) is the conditional distribution of $X$ knowing the value taken by $Y$.\n",
    "* The a posteriori probability of obtaining the $1$ modality of $Y$ (resp. $0$) knowing the value taken by $X$ is noted $p(1\\vert X)$ (resp. $p(0 \\vert X)$).\n",
    "\n"
   ]
  },
  {
   "cell_type": "markdown",
   "metadata": {},
   "source": [
    "In order to keep the outcome between 0 and 1, we apply the logistic function (also called sigmoid function):\n",
    "$g(z) = \\frac{1}{1 + exp(-z)}$\n",
    "\n",
    "The logistic regression hypothesis is then defined as:\n",
    "$h_\\beta(x) = g(\\beta^T x)$\n",
    "\n",
    "Logistic regressions are usually fit by maximum likelihood. The cost function we want to minimize is the opposite of the log-likelihood function:\n",
    "$J(\\beta ) = \\frac{1}{m} \\sum_{i=1}^m[-y_i log(h_\\beta (x_i) – (1 – y_i) log(1-h_\\beta (x_i))]$\n",
    "\n",
    "This imply to solve the following equation:\n",
    "$\\frac{dJ(\\beta)}{d\\beta} = \\frac{1}{m} \\sum_{i=1}^Nx_i(h_\\beta(x_i)-y_i) = 0$\n"
   ]
  },
  {
   "cell_type": "code",
   "execution_count": 12,
   "metadata": {},
   "outputs": [],
   "source": [
    "from sklearn.model_selection import train_test_split\n",
    "# Split the data into training and testing sets\n",
    "X_train, X_test, Y_train, Y_test = train_test_split(X_data, Y_data, test_size = 0.2, random_state = 42)"
   ]
  },
  {
   "cell_type": "markdown",
   "metadata": {},
   "source": [
    "In the cell below, we import the models we intend to use. For this project we shall compare the performance of the Logistic Regression, Gaussian Naive Bayes, Random Forest and KNearest Neighbours classifiers. We also import the metrics to assess the model performance. "
   ]
  },
  {
   "cell_type": "code",
   "execution_count": 13,
   "metadata": {},
   "outputs": [],
   "source": [
    "from sklearn.metrics import classification_report, accuracy_score, precision_score,recall_score,f1_score,matthews_corrcoef\n",
    "from sklearn.linear_model import  LogisticRegression\n",
    "from sklearn.naive_bayes import GaussianNB\n",
    "from sklearn.ensemble import RandomForestClassifier\n",
    "from sklearn.neighbors import KNeighborsClassifier\n",
    "from sklearn.metrics import roc_auc_score"
   ]
  },
  {
   "cell_type": "code",
   "execution_count": 33,
   "metadata": {},
   "outputs": [
    {
     "name": "stdout",
     "output_type": "stream",
     "text": [
      "Accuracy is 0.9390862944162437\n",
      "The ROC-AUC is 0.9430512016718914\n",
      "The precision is 0.9803921568627451\n",
      "The recall is 0.9090909090909091\n",
      "The F1-Score is 0.9433962264150944\n",
      "The Matthews correlation coefficient is 0.8805986084598311\n"
     ]
    }
   ],
   "source": [
    "#Logistic Regression\n",
    "lr_model = LogisticRegression(max_iter=500)\n",
    "\n",
    "lr_model.fit(X_train, Y_train)\n",
    "lr_y_pred = lr_model.predict(X_test)\n",
    "\n",
    "lr_acc=accuracy_score(Y_test,lr_y_pred)\n",
    "print(f'Accuracy is {(lr_acc)}')\n",
    "lr_roc_auc=roc_auc_score(Y_test,lr_y_pred)\n",
    "print(f'The ROC-AUC is {(lr_roc_auc)}')\n",
    "lr_prec= precision_score(Y_test,lr_y_pred)\n",
    "print(f\"The precision is {(lr_prec)}\")\n",
    "lr_rec= recall_score(Y_test,lr_y_pred)\n",
    "print(f\"The recall is {(lr_rec)}\")\n",
    "lr_f1= f1_score(Y_test,lr_y_pred)\n",
    "print(f\"The F1-Score is {(lr_f1)}\")\n",
    "lr_MCC=matthews_corrcoef(Y_test,lr_y_pred)\n",
    "print(f\"The Matthews correlation coefficient is {(lr_MCC)}\")"
   ]
  },
  {
   "cell_type": "markdown",
   "metadata": {},
   "source": [
    "## Gaussian naive Bayes\n",
    "The probabilistic model for a classifier is the conditional model : $P(C \\vert F_1,\\dots,F_n)\\,$\n",
    "\n",
    "where $C $ is a dependent class variable with few instances or ''classes'', conditioned by several characteristic variables {$F_1,F_2 \\ldots F_n$}\n",
    "\n",
    "When the number of characteristics $n$ is large, or when these characteristics can take a large number of values, basing this model on probability tables becomes impossible. \n",
    "\n",
    "Using Bayes' theorem, we write: $P(C \\vert F_1,\\dots,F_n) = \\frac{P(C) \\ P(F_1,\\dots,F_n\\vert C)}{P(F_1,\\dots,F_n)}. \\,$\n",
    "\n",
    "\n"
   ]
  },
  {
   "cell_type": "code",
   "execution_count": 15,
   "metadata": {},
   "outputs": [
    {
     "name": "stdout",
     "output_type": "stream",
     "text": [
      "Accuracy is 0.9086294416243654\n",
      "The ROC_AUC score is 0.9086294416243654\n",
      "The precision is 0.9791666666666666\n",
      "The recall is 0.8545454545454545\n",
      "The F1-Score is 0.912621359223301\n",
      "The Matthews correlation coefficient is 0.8261362186887347\n"
     ]
    }
   ],
   "source": [
    "#Gaussian Naive Bayes\n",
    "gau_model = GaussianNB()\n",
    "\n",
    "gau_model.fit(X_train, Y_train)\n",
    "gau_y_pred = gau_model.predict(X_test)\n",
    "\n",
    "gau_acc=accuracy_score(Y_test,gau_y_pred)\n",
    "print(f'Accuracy is {(gau_acc)}')\n",
    "gau_roc_auc=roc_auc_score(Y_test,gau_y_pred)\n",
    "print(f'The ROC_AUC score is {(gau_acc)}')\n",
    "gau_prec= precision_score(Y_test,gau_y_pred)\n",
    "print(f\"The precision is {(gau_prec)}\")\n",
    "gau_rec= recall_score(Y_test,gau_y_pred)\n",
    "print(f\"The recall is {(gau_rec)}\")\n",
    "gau_f1= f1_score(Y_test,gau_y_pred)\n",
    "print(f\"The F1-Score is {(gau_f1)}\")\n",
    "gau_MCC=matthews_corrcoef(Y_test,gau_y_pred)\n",
    "print(f\"The Matthews correlation coefficient is {(gau_MCC)}\")"
   ]
  },
  {
   "attachments": {
    "1.jpg": {
     "image/jpeg": "[encoded data removed]"
    }
   },
   "cell_type": "markdown",
   "metadata": {},
   "source": [
    "## Random forest : \n",
    "\n",
    "A decision tree is a decision support tool that uses a tree-like graph or model of decisions and their possible consequences.\n",
    "\n",
    "\n",
    "\n",
    "![1.jpg](attachment:1.jpg)\n",
    "\n",
    "Bagging or bootstrap aggregation is a technique for reducing\n",
    "the variance of an estimated prediction function. Bagging seems to be working\n",
    "particularly good for high variability and low bias methods, such as trees.\n",
    "\n",
    "Thanks to the notion of bagging, it is possible to build a model of a random drill by grouping together a large number of decision trees.\n"
   ]
  },
  {
   "cell_type": "code",
   "execution_count": 16,
   "metadata": {},
   "outputs": [
    {
     "name": "stdout",
     "output_type": "stream",
     "text": [
      "Accuracy is 0.949238578680203\n",
      "The ROC-AUC score is 0.9545454545454546\n",
      "The precision is 1.0\n",
      "The recall is 0.9090909090909091\n",
      "The F1-Score is 0.9523809523809523\n",
      "The Matthews correlation coefficient is 0.9029785140375688\n"
     ]
    }
   ],
   "source": [
    "#Random Forest\n",
    "rfc = RandomForestClassifier()\n",
    "rfc.fit(X_train,Y_train)\n",
    "\n",
    "rfc_y_pred = rfc.predict(X_test)\n",
    "\n",
    "rfc_acc=accuracy_score(Y_test,rfc_y_pred)\n",
    "print(f'Accuracy is {(rfc_acc)}')\n",
    "rfc_roc_auc=roc_auc_score(Y_test,rfc_y_pred)\n",
    "print(f'The ROC-AUC score is {(rfc_roc_auc)}')\n",
    "rfc_prec= precision_score(Y_test,rfc_y_pred)\n",
    "print(f\"The precision is {(rfc_prec)}\")\n",
    "rfc_rec= recall_score(Y_test,rfc_y_pred)\n",
    "print(f\"The recall is {(rfc_rec)}\")\n",
    "rfc_f1= f1_score(Y_test,rfc_y_pred)\n",
    "print(f\"The F1-Score is {(rfc_f1)}\")\n",
    "rfc_MCC=matthews_corrcoef(Y_test,rfc_y_pred)\n",
    "print(f\"The Matthews correlation coefficient is {(rfc_MCC)}\")"
   ]
  },
  {
   "cell_type": "markdown",
   "metadata": {},
   "source": [
    "## K nearest neighbours :\n",
    "\n",
    "The k-nearest neighbors (KNN) algorithm is a simple, easy-to-implement supervised machine learning algorithm that can be used to solve both classification and regression problems.\n",
    "\n",
    "Suppose we have pairs $(X_1,Y_1), (X_2,Y_2), \\dots, (X_n, Y_n)$ taking values in $\\mathbb{R}^d \\times \\{1,2\\}$, where $Y$ is the class label of $ X$ , so that $X|Y=r \\sim P_r $ for $r=1,2$ (and probability distributions $P_r$). Given some norm $\\|\\cdot\\|$ on $\\mathbb{R}^d$ and a point $x \\in \\mathbb{R}^d$, let $(X_{(1)},Y_{(1)}), \\dots, (X_{(n)}, Y_{(n)}) $ be a reordering of the training data such that $ \\|X_{(1)}-x\\| \\leq \\dots \\leq \\|X_{(n)}-x\\| $\n"
   ]
  },
  {
   "cell_type": "code",
   "execution_count": 17,
   "metadata": {},
   "outputs": [
    {
     "name": "stdout",
     "output_type": "stream",
     "text": [
      "The accuracy is 0.9289340101522843\n",
      "The ROC-AUC score is 0.9327586206896551\n",
      "The precision is 0.9705882352941176\n",
      "The recall is 0.9\n",
      "The F1-Score is 0.9339622641509434\n",
      "The Matthews correlation coefficient is 0.8601413058812242\n"
     ]
    }
   ],
   "source": [
    "#KNearest Neighbours\n",
    "knn = KNeighborsClassifier()\n",
    "knn.fit(X_train,Y_train)\n",
    "\n",
    "knn_y_pred = knn.predict(X_test)\n",
    "\n",
    "knn_acc=accuracy_score(Y_test,knn_y_pred)\n",
    "print(f'The accuracy is {(knn_acc)}')\n",
    "knn_roc_auc=roc_auc_score(Y_test,knn_y_pred)\n",
    "print(f'The ROC-AUC score is {(knn_roc_auc)}')\n",
    "knn_prec= precision_score(Y_test,knn_y_pred)\n",
    "print(f\"The precision is {(knn_prec)}\")\n",
    "knn_rec= recall_score(Y_test,knn_y_pred)\n",
    "print(f\"The recall is {(knn_rec)}\")\n",
    "knn_f1= f1_score(Y_test,knn_y_pred)\n",
    "print(f\"The F1-Score is {(knn_f1)}\")\n",
    "knn_MCC=matthews_corrcoef(Y_test,knn_y_pred)\n",
    "print(f\"The Matthews correlation coefficient is {(knn_MCC)}\")"
   ]
  },
  {
   "cell_type": "markdown",
   "metadata": {},
   "source": [
    "Below is a side-by-side comparison of the performance of each model. From below, the Logistic Regression model performs the best across the board  followed by the KNearestNeighbours model. Recall is the ability of a classification model to correctly identify the relevant instances. Precision is the ability of a classification model to return only relevant instances.(<a href='https://towardsdatascience.com/beyond-accuracy-precision-and-recall-3da06bea9f6c' target=\"_blank\">Will Koehrsen</a>) The F1 score is a function of precision and recall and aims to measure of the models accuracy and the closer the value is to 1, the more accurate the model is. (<a href='https://towardsdatascience.com/accuracy-precision-recall-or-f1-331fb37c5cb9' target=\"_blank\">Koo Ping Shung</a>) The F1 score is a better measure of a models accuracy than just using accuracy especially when the model is imbalanced. The MCC takes into account the true-positives, true-negatives, false-negatives and false-positives, and a high value (close to 1) means that both classes are predicted well, even if one class is disproportionately under- (or over-) represented. (<a href='https://towardsdatascience.com/the-best-classification-metric-youve-never-heard-of-the-matthews-correlation-coefficient-3bf50a2f3e9a' target=\"_blank\">Boaz Shmueli</a>)\n",
    "\n",
    "| Model | Accuracy | ROC-AUC | Precision | Recall | F1-Score | MCC |\n",
    "| --- | --- | --- | --- | --- | --- | --- |\n",
    "| LogisticRegression | 0.9492 | 0.9497 | 0.9630 | 0.9455 | 0.9541 | 0.8975 |\n",
    "| GaussianNB | 0.9289 | 0.9289 | 0.9706 | 0.9000 | 0.9340 | 0.8601 |\n",
    "| RandomForest | 0.9340 | 0.9349 | 0.9533 | 0.9273 | 0.9401 | 0.8671 |\n",
    "| KNearestNeighbours | 0.9391 | 0.9406 | 0.9623 | 0.9273 | 0.9444 | 0.8778 |"
   ]
  },
  {
   "cell_type": "markdown",
   "metadata": {},
   "source": [
    "Below, the confusion matrix of each model is shown. This provides a clearer overview of the performance of each model. The confusion matirx is made up as:\n",
    "- True Positives (Top-Left Square): Observation is positive and correctly predicted as positive.\n",
    "- False Negatives (Top-Right Square): Observation is positive but incorrectly predicted as negative.\n",
    "- False Positives (Bottom-Left Square): Observation is negative but incorrectly predicted as positive.\n",
    "- True Negatives (Bottom-Right Square): Observation is negative and correctly predicted as negative.\n",
    "\n",
    "From below, the Logistic Regression performs the best as it only misclassifies 9 transactions however improvements to the model need to be made to reduce the number of false positives. The Gaussian Naive-Bayes model performs the worst out of the four which is in line which the scores obtained in the table above."
   ]
  },
  {
   "cell_type": "code",
   "execution_count": 18,
   "metadata": {},
   "outputs": [
    {
     "data": {
      "image/png": "[encoded data removed]",
      "text/plain": [
       "<Figure size 1584x864 with 8 Axes>"
      ]
     },
     "metadata": {
      "needs_background": "light"
     },
     "output_type": "display_data"
    }
   ],
   "source": [
    "from sklearn.metrics import confusion_matrix\n",
    "\n",
    "from matplotlib import cm\n",
    "\n",
    "lr_cm = confusion_matrix(Y_test, lr_y_pred)\n",
    "gau_cm = confusion_matrix(Y_test, gau_y_pred)\n",
    "rfc_cm = confusion_matrix(Y_test, rfc_y_pred)\n",
    "knn_cm = confusion_matrix(Y_test, knn_y_pred)\n",
    "\n",
    "fig, ax = plt.subplots(2, 2,figsize=(22,12))\n",
    "\n",
    "\n",
    "sns.heatmap(lr_cm , ax=ax[0][0], annot=True, cmap=plt.cm.get_cmap('YlGnBu'))\n",
    "ax[0, 0].set_title(\"Logistic Regression \\n Confusion Matrix\", fontsize=14)\n",
    "ax[0, 0].set_xticklabels(['', ''], fontsize=14, rotation=90)\n",
    "ax[0, 0].set_yticklabels(['', ''], fontsize=14, rotation=360)\n",
    "\n",
    "sns.heatmap(gau_cm, ax=ax[0][1], annot=True, cmap=plt.cm.get_cmap('YlGnBu'))\n",
    "ax[0][1].set_title(\"Gaussian Naive-Bayes \\n Confusion Matrix\", fontsize=14)\n",
    "ax[0][1].set_xticklabels(['', ''], fontsize=14, rotation=90)\n",
    "ax[0][1].set_yticklabels(['', ''], fontsize=14, rotation=360)\n",
    "\n",
    "sns.heatmap(rfc_cm, ax=ax[1][0], annot=True, cmap=plt.cm.get_cmap('YlGnBu'))\n",
    "ax[1][0].set_title(\"Random Forest Classifier \\n Confusion Matrix\", fontsize=14)\n",
    "ax[1][0].set_xticklabels(['', ''], fontsize=14, rotation=90)\n",
    "ax[1][0].set_yticklabels(['', ''], fontsize=14, rotation=360)\n",
    "\n",
    "sns.heatmap(knn_cm, ax=ax[1][1], annot=True, cmap=plt.cm.get_cmap('YlGnBu'))\n",
    "ax[1][1].set_title(\"K-Nearest Neighbours \\n Confusion Matrix\", fontsize=14)\n",
    "ax[1][1].set_xticklabels(['', ''], fontsize=14, rotation=90)\n",
    "ax[1][1].set_yticklabels(['', ''], fontsize=14, rotation=360)\n",
    "\n",
    "\n",
    "plt.show()"
   ]
  },
  {
   "cell_type": "code",
   "execution_count": 39,
   "metadata": {},
   "outputs": [
    {
     "data": {
      "text/plain": [
       "{'algorithm': 'auto', 'leaf_size': 1, 'n_jobs': -1, 'n_neighbors': 5}"
      ]
     },
     "execution_count": 39,
     "metadata": {},
     "output_type": "execute_result"
    }
   ],
   "source": [
    "#Grid search\n",
    "from sklearn.neighbors import KNeighborsClassifier\n",
    "from sklearn.model_selection import GridSearchCV\n",
    "\n",
    "parameters = {'n_neighbors':[4,5,6,7],\n",
    "              'leaf_size':[1,3,5],\n",
    "              'algorithm':['auto', 'kd_tree'],\n",
    "              'n_jobs':[-1]}\n",
    "\n",
    "#Fit the model\n",
    "clf = GridSearchCV(knn, param_grid=parameters)\n",
    "clf.fit(X_train,Y_train)\n",
    "clf.best_params_\n",
    "\n",
    "\n",
    "\n"
   ]
  },
  {
   "cell_type": "markdown",
   "metadata": {},
   "source": [
    "We've been trying to optimize the result, since there's no amemlioration on the relative metrics of evaluation."
   ]
  },
  {
   "cell_type": "code",
   "execution_count": 46,
   "metadata": {
    "scrolled": true
   },
   "outputs": [
    {
     "name": "stdout",
     "output_type": "stream",
     "text": [
      "The accuracy is 0.9289340101522843\n",
      "The ROC-AUC score is 0.9327586206896551\n",
      "The precision is 0.9705882352941176\n",
      "The recall is 0.9\n",
      "The F1-Score is 0.9339622641509434\n",
      "The Matthews correlation coefficient is 0.8601413058812242\n"
     ]
    }
   ],
   "source": [
    "#KNearest Neighbours with gridsearch\n",
    "knn = KNeighborsClassifier(algorithm= 'auto', leaf_size = 1, n_jobs =  -1)\n",
    "knn.fit(X_train,Y_train)\n",
    "\n",
    "knn_y_pred = knn.predict(X_test)\n",
    "\n",
    "knn_acc=accuracy_score(Y_test,knn_y_pred)\n",
    "print(f'The accuracy is {(knn_acc)}')\n",
    "knn_roc_auc=roc_auc_score(Y_test,knn_y_pred)\n",
    "print(f'The ROC-AUC score is {(knn_roc_auc)}')\n",
    "knn_prec= precision_score(Y_test,knn_y_pred)\n",
    "print(f\"The precision is {(knn_prec)}\")\n",
    "knn_rec= recall_score(Y_test,knn_y_pred)\n",
    "print(f\"The recall is {(knn_rec)}\")\n",
    "knn_f1= f1_score(Y_test,knn_y_pred)\n",
    "print(f\"The F1-Score is {(knn_f1)}\")\n",
    "knn_MCC=matthews_corrcoef(Y_test,knn_y_pred)\n",
    "print(f\"The Matthews correlation coefficient is {(knn_MCC)}\")\n"
   ]
  }
 ],
 "metadata": {
  "kernelspec": {
   "display_name": "Python 3",
   "language": "python",
   "name": "python3"
  },
  "language_info": {
   "codemirror_mode": {
    "name": "ipython",
    "version": 3
   },
   "file_extension": ".py",
   "mimetype": "text/x-python",
   "name": "python",
   "nbconvert_exporter": "python",
   "pygments_lexer": "ipython3",
   "version": "3.8.5"
  }
 },
 "nbformat": 4,
 "nbformat_minor": 4
}
